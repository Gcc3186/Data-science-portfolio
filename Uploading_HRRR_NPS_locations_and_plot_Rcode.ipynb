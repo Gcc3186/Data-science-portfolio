{
  "nbformat": 4,
  "nbformat_minor": 0,
  "metadata": {
    "colab": {
      "provenance": [],
      "collapsed_sections": [],
      "toc_visible": true,
      "authorship_tag": "ABX9TyNePrtEXpVwlffKgvtPnKW5",
      "include_colab_link": true
    },
    "kernelspec": {
      "name": "python3",
      "display_name": "Python 3"
    },
    "language_info": {
      "name": "python"
    }
  },
  "cells": [
    {
      "cell_type": "markdown",
      "metadata": {
        "id": "view-in-github",
        "colab_type": "text"
      },
      "source": [
        "<a href=\"https://colab.research.google.com/github/Gcc3186/Data-science-portfolio/blob/main/Uploading_HRRR_NPS_locations_and_plot_Rcode.ipynb\" target=\"_parent\"><img src=\"https://colab.research.google.com/assets/colab-badge.svg\" alt=\"Open In Colab\"/></a>"
      ]
    },
    {
      "cell_type": "markdown",
      "source": [
        "## README\n",
        "This is a hybrid python-R script created to read and plot purple air data measurements located in National Parks. This routine reads and processes data from one intrument located in one park by loading a 'csv' file, creating a database, and ploting a timeseries. 🔥"
      ],
      "metadata": {
        "id": "5y93qmAvJRPl"
      }
    },
    {
      "cell_type": "code",
      "execution_count": 1,
      "metadata": {
        "id": "ANJq10zHIzEO"
      },
      "outputs": [],
      "source": [
        "## Import python libraries\n",
        "\n",
        "import io # provides Python's main facilities for dealing with various types of I/O\n",
        "\n",
        "import matplotlib.pyplot as plt # Matplotlib is a comprehensive library for \n",
        "                              # creating static, animated, and interactive visualizations \n",
        "\n",
        "import pandas as pd #pandas is a fast, powerful, flexible and easy to use \n",
        "                    # open source data analysis and manipulation tool, built on top \n",
        "                    # of the Python programming language. We are loading it as 'pd', \n",
        "                    # i.e we will use pd to call this library for now on\n",
        "\n",
        "from google.colab import files # library to import \n",
        "\n",
        "## Execute special commands\n",
        "%matplotlib inline \n",
        "                  # matplotlib is a magic '%' command which performs the necessary\n",
        "                  # behind-the-scenes setup for IPython to work correctly \n",
        "                  # hand-in-hand with matplotlib library. The output of plotting \n",
        "                  # commands is displayed inline within frontends like the Jupyter notebook\n"
      ]
    },
    {
      "cell_type": "markdown",
      "source": [
        "## **MANDATORY STEP TO WORK WITH R:** Load R library on python (Rpy2) [Rpy2 website](https://rpy2.github.io/)\n",
        "Before we start using R commands we need to load the R python extension. If you get an error message uncomment the first line (!pip install rpy2) and run it again."
      ],
      "metadata": {
        "id": "bLwJMUyHB2Vl"
      }
    },
    {
      "cell_type": "code",
      "source": [
        "# !pip install rpy2\n",
        "%load_ext rpy2.ipython"
      ],
      "metadata": {
        "id": "3_I5O7wDB265"
      },
      "execution_count": 2,
      "outputs": []
    },
    {
      "cell_type": "markdown",
      "source": [
        "## **STEP 1)** Upload the purple air file\n",
        "Using python language to connect between the google colab notebook with local computer to load \".csv\" files. Once you execute this cell it will show a buttom at the bottom of the cell called \"Browse\" where it will open your local machine directory. Load the purple air csv file. Ex. \"YOSE2ChA.csv\""
      ],
      "metadata": {
        "id": "PYRCyWu0JkAQ"
      }
    },
    {
      "cell_type": "code",
      "source": [
        "# Create variable to store the selected file \n",
        "uploaded = files.upload()\n"
      ],
      "metadata": {
        "colab": {
          "base_uri": "https://localhost:8080/",
          "height": 74
        },
        "id": "SBTqnQ5zJqt8",
        "outputId": "708af172-724d-4dc5-9fbb-9d52195fde9c"
      },
      "execution_count": 3,
      "outputs": [
        {
          "output_type": "display_data",
          "data": {
            "text/plain": [
              "<IPython.core.display.HTML object>"
            ],
            "text/html": [
              "\n",
              "     <input type=\"file\" id=\"files-f7f65049-0b02-4494-8fed-5d8177780ad5\" name=\"files[]\" multiple disabled\n",
              "        style=\"border:none\" />\n",
              "     <output id=\"result-f7f65049-0b02-4494-8fed-5d8177780ad5\">\n",
              "      Upload widget is only available when the cell has been executed in the\n",
              "      current browser session. Please rerun this cell to enable.\n",
              "      </output>\n",
              "      <script>// Copyright 2017 Google LLC\n",
              "//\n",
              "// Licensed under the Apache License, Version 2.0 (the \"License\");\n",
              "// you may not use this file except in compliance with the License.\n",
              "// You may obtain a copy of the License at\n",
              "//\n",
              "//      http://www.apache.org/licenses/LICENSE-2.0\n",
              "//\n",
              "// Unless required by applicable law or agreed to in writing, software\n",
              "// distributed under the License is distributed on an \"AS IS\" BASIS,\n",
              "// WITHOUT WARRANTIES OR CONDITIONS OF ANY KIND, either express or implied.\n",
              "// See the License for the specific language governing permissions and\n",
              "// limitations under the License.\n",
              "\n",
              "/**\n",
              " * @fileoverview Helpers for google.colab Python module.\n",
              " */\n",
              "(function(scope) {\n",
              "function span(text, styleAttributes = {}) {\n",
              "  const element = document.createElement('span');\n",
              "  element.textContent = text;\n",
              "  for (const key of Object.keys(styleAttributes)) {\n",
              "    element.style[key] = styleAttributes[key];\n",
              "  }\n",
              "  return element;\n",
              "}\n",
              "\n",
              "// Max number of bytes which will be uploaded at a time.\n",
              "const MAX_PAYLOAD_SIZE = 100 * 1024;\n",
              "\n",
              "function _uploadFiles(inputId, outputId) {\n",
              "  const steps = uploadFilesStep(inputId, outputId);\n",
              "  const outputElement = document.getElementById(outputId);\n",
              "  // Cache steps on the outputElement to make it available for the next call\n",
              "  // to uploadFilesContinue from Python.\n",
              "  outputElement.steps = steps;\n",
              "\n",
              "  return _uploadFilesContinue(outputId);\n",
              "}\n",
              "\n",
              "// This is roughly an async generator (not supported in the browser yet),\n",
              "// where there are multiple asynchronous steps and the Python side is going\n",
              "// to poll for completion of each step.\n",
              "// This uses a Promise to block the python side on completion of each step,\n",
              "// then passes the result of the previous step as the input to the next step.\n",
              "function _uploadFilesContinue(outputId) {\n",
              "  const outputElement = document.getElementById(outputId);\n",
              "  const steps = outputElement.steps;\n",
              "\n",
              "  const next = steps.next(outputElement.lastPromiseValue);\n",
              "  return Promise.resolve(next.value.promise).then((value) => {\n",
              "    // Cache the last promise value to make it available to the next\n",
              "    // step of the generator.\n",
              "    outputElement.lastPromiseValue = value;\n",
              "    return next.value.response;\n",
              "  });\n",
              "}\n",
              "\n",
              "/**\n",
              " * Generator function which is called between each async step of the upload\n",
              " * process.\n",
              " * @param {string} inputId Element ID of the input file picker element.\n",
              " * @param {string} outputId Element ID of the output display.\n",
              " * @return {!Iterable<!Object>} Iterable of next steps.\n",
              " */\n",
              "function* uploadFilesStep(inputId, outputId) {\n",
              "  const inputElement = document.getElementById(inputId);\n",
              "  inputElement.disabled = false;\n",
              "\n",
              "  const outputElement = document.getElementById(outputId);\n",
              "  outputElement.innerHTML = '';\n",
              "\n",
              "  const pickedPromise = new Promise((resolve) => {\n",
              "    inputElement.addEventListener('change', (e) => {\n",
              "      resolve(e.target.files);\n",
              "    });\n",
              "  });\n",
              "\n",
              "  const cancel = document.createElement('button');\n",
              "  inputElement.parentElement.appendChild(cancel);\n",
              "  cancel.textContent = 'Cancel upload';\n",
              "  const cancelPromise = new Promise((resolve) => {\n",
              "    cancel.onclick = () => {\n",
              "      resolve(null);\n",
              "    };\n",
              "  });\n",
              "\n",
              "  // Wait for the user to pick the files.\n",
              "  const files = yield {\n",
              "    promise: Promise.race([pickedPromise, cancelPromise]),\n",
              "    response: {\n",
              "      action: 'starting',\n",
              "    }\n",
              "  };\n",
              "\n",
              "  cancel.remove();\n",
              "\n",
              "  // Disable the input element since further picks are not allowed.\n",
              "  inputElement.disabled = true;\n",
              "\n",
              "  if (!files) {\n",
              "    return {\n",
              "      response: {\n",
              "        action: 'complete',\n",
              "      }\n",
              "    };\n",
              "  }\n",
              "\n",
              "  for (const file of files) {\n",
              "    const li = document.createElement('li');\n",
              "    li.append(span(file.name, {fontWeight: 'bold'}));\n",
              "    li.append(span(\n",
              "        `(${file.type || 'n/a'}) - ${file.size} bytes, ` +\n",
              "        `last modified: ${\n",
              "            file.lastModifiedDate ? file.lastModifiedDate.toLocaleDateString() :\n",
              "                                    'n/a'} - `));\n",
              "    const percent = span('0% done');\n",
              "    li.appendChild(percent);\n",
              "\n",
              "    outputElement.appendChild(li);\n",
              "\n",
              "    const fileDataPromise = new Promise((resolve) => {\n",
              "      const reader = new FileReader();\n",
              "      reader.onload = (e) => {\n",
              "        resolve(e.target.result);\n",
              "      };\n",
              "      reader.readAsArrayBuffer(file);\n",
              "    });\n",
              "    // Wait for the data to be ready.\n",
              "    let fileData = yield {\n",
              "      promise: fileDataPromise,\n",
              "      response: {\n",
              "        action: 'continue',\n",
              "      }\n",
              "    };\n",
              "\n",
              "    // Use a chunked sending to avoid message size limits. See b/62115660.\n",
              "    let position = 0;\n",
              "    do {\n",
              "      const length = Math.min(fileData.byteLength - position, MAX_PAYLOAD_SIZE);\n",
              "      const chunk = new Uint8Array(fileData, position, length);\n",
              "      position += length;\n",
              "\n",
              "      const base64 = btoa(String.fromCharCode.apply(null, chunk));\n",
              "      yield {\n",
              "        response: {\n",
              "          action: 'append',\n",
              "          file: file.name,\n",
              "          data: base64,\n",
              "        },\n",
              "      };\n",
              "\n",
              "      let percentDone = fileData.byteLength === 0 ?\n",
              "          100 :\n",
              "          Math.round((position / fileData.byteLength) * 100);\n",
              "      percent.textContent = `${percentDone}% done`;\n",
              "\n",
              "    } while (position < fileData.byteLength);\n",
              "  }\n",
              "\n",
              "  // All done.\n",
              "  yield {\n",
              "    response: {\n",
              "      action: 'complete',\n",
              "    }\n",
              "  };\n",
              "}\n",
              "\n",
              "scope.google = scope.google || {};\n",
              "scope.google.colab = scope.google.colab || {};\n",
              "scope.google.colab._files = {\n",
              "  _uploadFiles,\n",
              "  _uploadFilesContinue,\n",
              "};\n",
              "})(self);\n",
              "</script> "
            ]
          },
          "metadata": {}
        },
        {
          "output_type": "stream",
          "name": "stdout",
          "text": [
            "Saving YOSE2ChA_short.csv to YOSE2ChA_short.csv\n"
          ]
        }
      ]
    },
    {
      "cell_type": "markdown",
      "source": [
        "After the variable \"uploaded\" is created, let's use the pandas library to create a dataframe called \"df\".  "
      ],
      "metadata": {
        "id": "NDkM5tnHQ8uN"
      }
    },
    {
      "cell_type": "markdown",
      "source": [
        " ## **STEP 2)** Using R to upload file \n",
        "After we upload the file into the system, let's use the R library to read it and create a dataframe."
      ],
      "metadata": {
        "id": "h722YlJPQAh3"
      }
    },
    {
      "cell_type": "code",
      "source": [
        "## **IMPORTANT** Every cell containing R language should start with '%%R'. \n",
        "##  This is how you tell the notebok in what language you are writting.\n",
        "%%R \n",
        "\n",
        "## import R libraries\n",
        "# library.install(readr) # Uncomment and install if needed\n",
        "library(readr)\n",
        "\n",
        "# data1 <- read.csv('/content/drive/MyDrive/Colab Notebooks/NPS_points.csv',header=TRUE)\n",
        "data1 <- read.csv('/content/YOSE2ChA.csv',header=TRUE)\n",
        "# uploaded"
      ],
      "metadata": {
        "id": "QDK0sY-tQObw"
      },
      "execution_count": 66,
      "outputs": []
    },
    {
      "cell_type": "code",
      "source": [
        "%%R\n",
        "## Check the data structure\n",
        "str(data1)\n",
        "names(data1)"
      ],
      "metadata": {
        "colab": {
          "base_uri": "https://localhost:8080/"
        },
        "id": "5bSj2q9VKpOC",
        "outputId": "9de541b7-e847-43b1-de99-af13fdba1e1e"
      },
      "execution_count": 6,
      "outputs": [
        {
          "output_type": "stream",
          "name": "stdout",
          "text": [
            "'data.frame':\t11 obs. of  10 variables:\n",
            " $ created_at      : chr  \"2021-07-02 00:38:02 UTC\" \"2021-07-02 00:40:06 UTC\" \"2021-07-02 00:42:02 UTC\" \"2021-07-02 00:44:03 UTC\" ...\n",
            " $ entry_id        : int  9527 9528 9529 9530 9531 9532 9533 9534 9535 9536 ...\n",
            " $ PM1.0_CF1_ug.m3 : num  10.8 10.1 10.1 10.3 10.3 ...\n",
            " $ PM2.5_CF1_ug.m3 : num  14 13.5 13.3 13.8 14.2 ...\n",
            " $ PM10.0_CF1_ug.m3: num  14.6 13.8 13.6 14.1 14.4 ...\n",
            " $ UptimeMinutes   : int  10 12 14 16 18 20 22 24 26 28 ...\n",
            " $ RSSI_dbm        : int  -70 -70 -70 -69 -74 -70 -72 -69 -67 -67 ...\n",
            " $ Temperature_F   : int  92 93 93 95 95 96 96 96 97 98 ...\n",
            " $ Humidity_.      : int  25 23 22 22 21 21 20 20 20 19 ...\n",
            " $ PM2.5_ATM_ug.m3 : num  14 13.5 13.3 13.8 14.2 ...\n",
            " [1] \"created_at\"       \"entry_id\"         \"PM1.0_CF1_ug.m3\"  \"PM2.5_CF1_ug.m3\" \n",
            " [5] \"PM10.0_CF1_ug.m3\" \"UptimeMinutes\"    \"RSSI_dbm\"         \"Temperature_F\"   \n",
            " [9] \"Humidity_.\"       \"PM2.5_ATM_ug.m3\" \n"
          ]
        }
      ]
    },
    {
      "cell_type": "code",
      "source": [
        "%%R\n",
        "time <-c(data1['created_at'])\n",
        "pm25 <-c(data1['PM2.5_ATM_ug.m3'])\n",
        "humidity <-c(data1['Humidity_.'])\n",
        "\n",
        "time <- as.Date(unlist(time))\n",
        "pm25 <- as.numeric(unlist(pm25))\n",
        "humidity <- as.numeric(unlist(humidity))\n"
      ],
      "metadata": {
        "id": "SyW2th9fKpJi"
      },
      "execution_count": 67,
      "outputs": []
    },
    {
      "cell_type": "markdown",
      "source": [
        "## STEP 3) Create scatterplot\n",
        "I've stopped here becasue I think you know better how to plot a timeseries on R"
      ],
      "metadata": {
        "id": "YU54SP1biYkM"
      }
    },
    {
      "cell_type": "code",
      "source": [
        "%%R\n",
        "# Plot with main and axis titles\n",
        "# Change point shape (pch = 19) and remove frame. # Add regression line\n",
        "\n",
        "plot(pm25,humidity , main = \"Sample figure\",\n",
        "     xlab = \"X axis title\", ylab = \"Y axis title\",\n",
        "     pch = 19, frame = FALSE)\n",
        "abline(lm(y ~ x, data = mtcars), col = \"blue\")"
      ],
      "metadata": {
        "colab": {
          "base_uri": "https://localhost:8080/",
          "height": 497
        },
        "id": "KGRH71nSeZB2",
        "outputId": "ec0b282d-dbb1-4e63-8214-222ed762e60f"
      },
      "execution_count": 68,
      "outputs": [
        {
          "output_type": "display_data",
          "data": {
            "image/png": "[encoded data removed]"
          },
          "metadata": {}
        }
      ]
    }
  ]
}